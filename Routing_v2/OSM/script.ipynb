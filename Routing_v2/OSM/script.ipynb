{
 "cells": [
  {
   "cell_type": "code",
   "execution_count": 1,
   "metadata": {},
   "outputs": [],
   "source": [
    "import numpy as np\n",
    "from routingpy import OSRM\n",
    "import os\n",
    "import pandas as pd\n",
    "import sys\n",
    "sys.path.append(\"..\")\n",
    "from time import time\n",
    "from tqdm import tqdm\n",
    "from utils.dicttool import *\n",
    "from utils.attractiondata import AttractionDataset as attrd"
   ]
  },
  {
   "cell_type": "code",
   "execution_count": 2,
   "metadata": {},
   "outputs": [],
   "source": [
    "def getplacecoo(df:pd.DataFrame, pid:int)->tuple:\n",
    "    lng = df.loc[df['placeid']==pid]['lng'].values[0]\n",
    "    lat = df.loc[df['placeid']==pid]['lat'].values[0]\n",
    "    name = df.loc[df['placeid']==pid]['name'].values[0]\n",
    "    coo = [lng, lat]\n",
    "    print(name, end = \" \")\n",
    "    print(f\"{coo[1]}, {coo[0]}\")\n",
    "    return coo"
   ]
  },
  {
   "cell_type": "code",
   "execution_count": 2,
   "metadata": {},
   "outputs": [],
   "source": [
    "attractions = attrd(\n",
    "        csvfilepath=os.path.join(\"..\", \"Attractiondata\", \"cluster_with_coo.csv\"),\n",
    "        region=loadjson(jsonfilepath=os.path.join(\".\",\"tw_region.json\"))\n",
    ")"
   ]
  },
  {
   "cell_type": "code",
   "execution_count": 4,
   "metadata": {},
   "outputs": [
    {
     "name": "stdout",
     "output_type": "stream",
     "text": [
      "台灣金屬創意館 23.045063, 120.275724\n"
     ]
    },
    {
     "data": {
      "text/plain": [
       "[120.275724, 23.045063]"
      ]
     },
     "execution_count": 4,
     "metadata": {},
     "output_type": "execute_result"
    }
   ],
   "source": [
    "getplacecoo(attractions.df, 1)"
   ]
  },
  {
   "cell_type": "markdown",
   "metadata": {},
   "source": [
    "## Nominatim Example"
   ]
  },
  {
   "cell_type": "code",
   "execution_count": null,
   "metadata": {},
   "outputs": [],
   "source": [
    "from OSMPythonTools.nominatim import Nominatim\n",
    "from tqdm import tqdm\n",
    "nominatim = Nominatim()"
   ]
  },
  {
   "cell_type": "code",
   "execution_count": 2,
   "metadata": {},
   "outputs": [
    {
     "name": "stderr",
     "output_type": "stream",
     "text": [
      "[nominatim] downloading data: reverse\n"
     ]
    }
   ],
   "source": [
    "t = nominatim.query(23.23853, 120.81151, reverse=True, zoom=10)"
   ]
  },
  {
   "cell_type": "code",
   "execution_count": 5,
   "metadata": {},
   "outputs": [
    {
     "name": "stdout",
     "output_type": "stream",
     "text": [
      "{'city': '高雄市', 'ISO3166-2-lvl4': 'TW-KHH', 'country': '臺灣', 'country_code': 'tw'}\n"
     ]
    }
   ],
   "source": [
    "print(t.address())"
   ]
  },
  {
   "cell_type": "markdown",
   "metadata": {},
   "source": [
    "## OSRM example"
   ]
  },
  {
   "cell_type": "code",
   "execution_count": 4,
   "metadata": {},
   "outputs": [],
   "source": [
    "def testing(loc):\n",
    "    client = OSRM(base_url=\"https://routing.openstreetmap.de/routed-car\")\n",
    "    r = client.matrix(locations=loc,sources=[0])\n",
    "    print(r.distances)\n",
    "    print(r.durations)"
   ]
  },
  {
   "cell_type": "code",
   "execution_count": 5,
   "metadata": {},
   "outputs": [
    {
     "name": "stdout",
     "output_type": "stream",
     "text": [
      "五孔洞 22.08055, 121.51072\n",
      "大天池 22.0209, 121.57271\n",
      "[[121.51072, 22.08055], [121.57271, 22.0209]]\n",
      "[[0, 14200.4]]\n",
      "[[0, 1305.3]]\n"
     ]
    }
   ],
   "source": [
    "#Testing data \n",
    "n0 = getplacecoo(attractions.df, 2496)\n",
    "n1 = getplacecoo(attractions.df, 2506)\n",
    "total = [n0 ,n1]\n",
    "print(total)\n",
    "testing(total)"
   ]
  }
 ],
 "metadata": {
  "kernelspec": {
   "display_name": "Python 3.10.4",
   "language": "python",
   "name": "python3"
  },
  "language_info": {
   "codemirror_mode": {
    "name": "ipython",
    "version": 3
   },
   "file_extension": ".py",
   "mimetype": "text/x-python",
   "name": "python",
   "nbconvert_exporter": "python",
   "pygments_lexer": "ipython3",
   "version": "3.10.4"
  },
  "orig_nbformat": 4,
  "vscode": {
   "interpreter": {
    "hash": "f7401c3a6738d15d752740af9785731698b5ffd5adfb1a735c0bc94da9902075"
   }
  }
 },
 "nbformat": 4,
 "nbformat_minor": 2
}
