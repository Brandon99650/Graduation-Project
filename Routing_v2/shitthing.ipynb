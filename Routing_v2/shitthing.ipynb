{
 "cells": [
  {
   "cell_type": "code",
   "execution_count": 12,
   "metadata": {},
   "outputs": [],
   "source": [
    "import pandas as pd\n",
    "import os\n",
    "from tqdm import tqdm"
   ]
  },
  {
   "cell_type": "code",
   "execution_count": 6,
   "metadata": {},
   "outputs": [],
   "source": [
    "x = pd.read_csv(\n",
    "    os.path.join(\"Attractiondata\",\"cluster_with_coo.csv\")\n",
    ")\n"
   ]
  },
  {
   "cell_type": "code",
   "execution_count": 11,
   "metadata": {},
   "outputs": [],
   "source": [
    "raw = pd.read_csv(\n",
    "    os.path.join(\"Attractiondata\",\"rawdata\",\"raw.csv\")\n",
    ")"
   ]
  },
  {
   "cell_type": "code",
   "execution_count": 15,
   "metadata": {},
   "outputs": [],
   "source": [
    "x['addr'] = \"\""
   ]
  },
  {
   "cell_type": "code",
   "execution_count": 18,
   "metadata": {},
   "outputs": [
    {
     "name": "stderr",
     "output_type": "stream",
     "text": [
      "100%|██████████| 4673/4673 [00:08<00:00, 557.17it/s]\n"
     ]
    }
   ],
   "source": [
    "for i in tqdm(range(x.shape[0])):\n",
    "    this_name = x.iloc[i]['name']\n",
    "    its_addr = raw[raw['Name'] == this_name]['Add'].values[0]\n",
    "    x.iloc[i, x.columns.get_loc('addr')] = its_addr\n",
    "  \n"
   ]
  },
  {
   "cell_type": "code",
   "execution_count": 19,
   "metadata": {},
   "outputs": [
    {
     "data": {
      "text/html": [
       "<div>\n",
       "<style scoped>\n",
       "    .dataframe tbody tr th:only-of-type {\n",
       "        vertical-align: middle;\n",
       "    }\n",
       "\n",
       "    .dataframe tbody tr th {\n",
       "        vertical-align: top;\n",
       "    }\n",
       "\n",
       "    .dataframe thead th {\n",
       "        text-align: right;\n",
       "    }\n",
       "</style>\n",
       "<table border=\"1\" class=\"dataframe\">\n",
       "  <thead>\n",
       "    <tr style=\"text-align: right;\">\n",
       "      <th></th>\n",
       "      <th>name</th>\n",
       "      <th>description</th>\n",
       "      <th>0</th>\n",
       "      <th>1</th>\n",
       "      <th>2</th>\n",
       "      <th>3</th>\n",
       "      <th>4</th>\n",
       "      <th>5</th>\n",
       "      <th>lng</th>\n",
       "      <th>lat</th>\n",
       "      <th>region</th>\n",
       "      <th>placeid</th>\n",
       "      <th>region2</th>\n",
       "      <th>region2_en</th>\n",
       "      <th>pic0</th>\n",
       "      <th>pic1</th>\n",
       "      <th>pic2</th>\n",
       "      <th>town</th>\n",
       "      <th>addr</th>\n",
       "    </tr>\n",
       "  </thead>\n",
       "  <tbody>\n",
       "    <tr>\n",
       "      <th>0</th>\n",
       "      <td>宏亞食品巧克力觀光工廠</td>\n",
       "      <td>宏亞食品巧克力觀光工廠是一座以巧克力為主題的觀光工廠，建築設計、展場文字、陳列物、戶外景觀及...</td>\n",
       "      <td>0</td>\n",
       "      <td>0</td>\n",
       "      <td>0</td>\n",
       "      <td>1</td>\n",
       "      <td>0</td>\n",
       "      <td>0</td>\n",
       "      <td>121.297187</td>\n",
       "      <td>24.943325</td>\n",
       "      <td>桃園市</td>\n",
       "      <td>0</td>\n",
       "      <td>桃園</td>\n",
       "      <td>Taoyuan</td>\n",
       "      <td>NaN</td>\n",
       "      <td>NaN</td>\n",
       "      <td>NaN</td>\n",
       "      <td>八德區</td>\n",
       "      <td>桃園縣八德市建國路386號</td>\n",
       "    </tr>\n",
       "    <tr>\n",
       "      <th>1</th>\n",
       "      <td>台灣金屬創意館</td>\n",
       "      <td>台灣金屬創意館為第一座金屬造型觀光工廠，來這裡可讓大家看到並觸摸到金屬柔軟的一面，館區內充滿...</td>\n",
       "      <td>0</td>\n",
       "      <td>0</td>\n",
       "      <td>0</td>\n",
       "      <td>1</td>\n",
       "      <td>0</td>\n",
       "      <td>0</td>\n",
       "      <td>120.275724</td>\n",
       "      <td>23.045063</td>\n",
       "      <td>臺南市</td>\n",
       "      <td>1</td>\n",
       "      <td>臺南</td>\n",
       "      <td>Tainan</td>\n",
       "      <td>NaN</td>\n",
       "      <td>NaN</td>\n",
       "      <td>NaN</td>\n",
       "      <td>永康區</td>\n",
       "      <td>台南市永康區永科環路598號</td>\n",
       "    </tr>\n",
       "    <tr>\n",
       "      <th>2</th>\n",
       "      <td>長虹橋</td>\n",
       "      <td>長虹橋優雅的拱形橋身橫跨在秀姑巒溪出海口處兩岸，在山海交際之處形成一道美麗的虹影，成為東海岸...</td>\n",
       "      <td>0</td>\n",
       "      <td>0</td>\n",
       "      <td>0</td>\n",
       "      <td>0</td>\n",
       "      <td>1</td>\n",
       "      <td>0</td>\n",
       "      <td>121.489040</td>\n",
       "      <td>23.468450</td>\n",
       "      <td>花蓮縣</td>\n",
       "      <td>2</td>\n",
       "      <td>花蓮</td>\n",
       "      <td>Hualien</td>\n",
       "      <td>https://www.eastcoast-nsa.gov.tw/image/28957/6...</td>\n",
       "      <td>NaN</td>\n",
       "      <td>NaN</td>\n",
       "      <td>豐濱鄉</td>\n",
       "      <td>花蓮縣977豐濱鄉台11線68公里處</td>\n",
       "    </tr>\n",
       "    <tr>\n",
       "      <th>3</th>\n",
       "      <td>北回歸線</td>\n",
       "      <td>台灣一共有三個北回歸線標，分別在嘉義水上鄉、花蓮舞鶴台地、豐濱鄉，而這座北回歸線標碑位於台1...</td>\n",
       "      <td>0</td>\n",
       "      <td>1</td>\n",
       "      <td>0</td>\n",
       "      <td>0</td>\n",
       "      <td>1</td>\n",
       "      <td>0</td>\n",
       "      <td>121.496170</td>\n",
       "      <td>23.451410</td>\n",
       "      <td>花蓮縣</td>\n",
       "      <td>3</td>\n",
       "      <td>花蓮</td>\n",
       "      <td>Hualien</td>\n",
       "      <td>https://www.eastcoast-nsa.gov.tw/image/28952/6...</td>\n",
       "      <td>NaN</td>\n",
       "      <td>NaN</td>\n",
       "      <td>豐濱鄉</td>\n",
       "      <td>花蓮縣977豐濱鄉台11線70.5公里處</td>\n",
       "    </tr>\n",
       "    <tr>\n",
       "      <th>4</th>\n",
       "      <td>金樽</td>\n",
       "      <td>金樽可俯瞰海岸全景，包含金樽漁港、白沙灣海灘以及附近的山澗峽谷，讓秀麗的景色完全盡收眼底，而...</td>\n",
       "      <td>0</td>\n",
       "      <td>0</td>\n",
       "      <td>0</td>\n",
       "      <td>0</td>\n",
       "      <td>1</td>\n",
       "      <td>0</td>\n",
       "      <td>121.279750</td>\n",
       "      <td>22.945100</td>\n",
       "      <td>臺東縣</td>\n",
       "      <td>4</td>\n",
       "      <td>臺東</td>\n",
       "      <td>Taitung</td>\n",
       "      <td>https://www.eastcoast-nsa.gov.tw/image/28914/6...</td>\n",
       "      <td>NaN</td>\n",
       "      <td>NaN</td>\n",
       "      <td>東河鄉</td>\n",
       "      <td>臺東縣959東河鄉七里橋11號</td>\n",
       "    </tr>\n",
       "  </tbody>\n",
       "</table>\n",
       "</div>"
      ],
      "text/plain": [
       "          name                                        description  0  1  2  3  \\\n",
       "0  宏亞食品巧克力觀光工廠  宏亞食品巧克力觀光工廠是一座以巧克力為主題的觀光工廠，建築設計、展場文字、陳列物、戶外景觀及...  0  0  0  1   \n",
       "1      台灣金屬創意館  台灣金屬創意館為第一座金屬造型觀光工廠，來這裡可讓大家看到並觸摸到金屬柔軟的一面，館區內充滿...  0  0  0  1   \n",
       "2          長虹橋  長虹橋優雅的拱形橋身橫跨在秀姑巒溪出海口處兩岸，在山海交際之處形成一道美麗的虹影，成為東海岸...  0  0  0  0   \n",
       "3         北回歸線  台灣一共有三個北回歸線標，分別在嘉義水上鄉、花蓮舞鶴台地、豐濱鄉，而這座北回歸線標碑位於台1...  0  1  0  0   \n",
       "4           金樽  金樽可俯瞰海岸全景，包含金樽漁港、白沙灣海灘以及附近的山澗峽谷，讓秀麗的景色完全盡收眼底，而...  0  0  0  0   \n",
       "\n",
       "   4  5         lng        lat region  placeid region2 region2_en  \\\n",
       "0  0  0  121.297187  24.943325    桃園市        0      桃園    Taoyuan   \n",
       "1  0  0  120.275724  23.045063    臺南市        1      臺南     Tainan   \n",
       "2  1  0  121.489040  23.468450    花蓮縣        2      花蓮    Hualien   \n",
       "3  1  0  121.496170  23.451410    花蓮縣        3      花蓮    Hualien   \n",
       "4  1  0  121.279750  22.945100    臺東縣        4      臺東    Taitung   \n",
       "\n",
       "                                                pic0 pic1 pic2 town  \\\n",
       "0                                                NaN  NaN  NaN  八德區   \n",
       "1                                                NaN  NaN  NaN  永康區   \n",
       "2  https://www.eastcoast-nsa.gov.tw/image/28957/6...  NaN  NaN  豐濱鄉   \n",
       "3  https://www.eastcoast-nsa.gov.tw/image/28952/6...  NaN  NaN  豐濱鄉   \n",
       "4  https://www.eastcoast-nsa.gov.tw/image/28914/6...  NaN  NaN  東河鄉   \n",
       "\n",
       "                   addr  \n",
       "0         桃園縣八德市建國路386號  \n",
       "1        台南市永康區永科環路598號  \n",
       "2    花蓮縣977豐濱鄉台11線68公里處  \n",
       "3  花蓮縣977豐濱鄉台11線70.5公里處  \n",
       "4       臺東縣959東河鄉七里橋11號  "
      ]
     },
     "execution_count": 19,
     "metadata": {},
     "output_type": "execute_result"
    }
   ],
   "source": [
    "x.head()"
   ]
  },
  {
   "cell_type": "code",
   "execution_count": 20,
   "metadata": {},
   "outputs": [],
   "source": [
    "x.to_csv(\n",
    "    os.path.join(\"Attractiondata\",\"cluster_with_coo.csv\")\n",
    ")"
   ]
  }
 ],
 "metadata": {
  "kernelspec": {
   "display_name": "Python 3.10.4",
   "language": "python",
   "name": "python3"
  },
  "language_info": {
   "codemirror_mode": {
    "name": "ipython",
    "version": 3
   },
   "file_extension": ".py",
   "mimetype": "text/x-python",
   "name": "python",
   "nbconvert_exporter": "python",
   "pygments_lexer": "ipython3",
   "version": "3.10.4"
  },
  "orig_nbformat": 4,
  "vscode": {
   "interpreter": {
    "hash": "f7401c3a6738d15d752740af9785731698b5ffd5adfb1a735c0bc94da9902075"
   }
  }
 },
 "nbformat": 4,
 "nbformat_minor": 2
}
