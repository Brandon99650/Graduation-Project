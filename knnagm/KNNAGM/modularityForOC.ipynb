{
 "cells": [
  {
   "cell_type": "code",
   "execution_count": 1,
   "metadata": {},
   "outputs": [],
   "source": [
    "import os\n",
    "import torch\n",
    "from utils.getdata import getdata\n",
    "from utils.metrics import modularity"
   ]
  },
  {
   "cell_type": "code",
   "execution_count": 8,
   "metadata": {},
   "outputs": [
    {
     "name": "stdout",
     "output_type": "stream",
     "text": [
      "Data(x=[4674, 512], edge_index=[2, 40014])\n",
      "labels:torch.Size([4674, 6])\n"
     ]
    }
   ],
   "source": [
    "data = \"attraction\"\n",
    "graph = \"K_5\"\n",
    "clusternum = 6\n",
    "g = getdata(\n",
    "    datafolder=os.path.join(\"data\",\"attraction\",graph)\n",
    ")\n",
    "print(g)\n",
    "labels = torch.load(\n",
    "    os.path.join(\n",
    "        \"result\", \"attraction\",\n",
    "        f\"{graph}_{clusternum}\", \"cluster.pt\"\n",
    "    )\n",
    ")\n",
    "print(f\"labels:{labels.size()}\")"
   ]
  },
  {
   "cell_type": "code",
   "execution_count": 9,
   "metadata": {},
   "outputs": [
    {
     "name": "stdout",
     "output_type": "stream",
     "text": [
      "0.7135383638992121\n"
     ]
    }
   ],
   "source": [
    "md = modularity(adjlist=g.edge_index, labels=labels)\n",
    "print(md)"
   ]
  }
 ],
 "metadata": {
  "kernelspec": {
   "display_name": "Python 3.9.12 ('tenv')",
   "language": "python",
   "name": "python3"
  },
  "language_info": {
   "codemirror_mode": {
    "name": "ipython",
    "version": 3
   },
   "file_extension": ".py",
   "mimetype": "text/x-python",
   "name": "python",
   "nbconvert_exporter": "python",
   "pygments_lexer": "ipython3",
   "version": "3.9.12"
  },
  "orig_nbformat": 4,
  "vscode": {
   "interpreter": {
    "hash": "d1e7557a9eff01b884e6816941520e312afc5d177dd75698efaf90143d68141d"
   }
  }
 },
 "nbformat": 4,
 "nbformat_minor": 2
}
