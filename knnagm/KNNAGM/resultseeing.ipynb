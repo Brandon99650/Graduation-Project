{
 "cells": [
  {
   "cell_type": "code",
   "execution_count": 1,
   "metadata": {},
   "outputs": [],
   "source": [
    "import pandas as pd\n",
    "import torch\n",
    "import os\n",
    "import numpy as np\n",
    "from tqdm import tqdm\n",
    "from torch_geometric.utils import to_dense_adj\n",
    "from utils.getdata import getdata\n",
    "\n",
    "from sklearn.manifold import TSNE\n",
    "from sklearn.preprocessing import normalize\n",
    "import matplotlib.pyplot as plt\n",
    "import matplotlib.cm as cm"
   ]
  },
  {
   "cell_type": "code",
   "execution_count": 2,
   "metadata": {},
   "outputs": [],
   "source": [
    "dataroot= os.path.join(\"data\",\"attraction\")\n",
    "clusteringresult_dir = os.path.join(\"result\", \"attraction\")\n",
    "attraction  = pd.read_csv(os.path.join(dataroot,\"raw\",\"legaldata.csv\"))\n",
    "name = attraction['Name'].tolist()\n",
    "toldscribe = attraction['Toldescribe'].tolist()"
   ]
  },
  {
   "cell_type": "markdown",
   "metadata": {},
   "source": [
    "### KNN looked like result"
   ]
  },
  {
   "cell_type": "code",
   "execution_count": 27,
   "metadata": {},
   "outputs": [
    {
     "name": "stdout",
     "output_type": "stream",
     "text": [
      "torch.Size([4674, 4674])\n"
     ]
    }
   ],
   "source": [
    "nlist = torch.load(os.path.join(dataroot,\"processed\",\"order.pt\"))\n",
    "print(nlist.size())"
   ]
  },
  {
   "cell_type": "code",
   "execution_count": 28,
   "metadata": {},
   "outputs": [],
   "source": [
    "def seeresult(target, nblist,name, numofn=6, out=False):\n",
    "    nbi = []\n",
    "    if out:\n",
    "        print(f\"{name[target]}:\")\n",
    "    nbi.append(name[target])\n",
    "    idx = nblist[target][1:numofn].tolist()\n",
    "    for i in idx:\n",
    "        if out:\n",
    "            print(name[i])\n",
    "        nbi.append(name[i])\n",
    "    return nbi"
   ]
  },
  {
   "cell_type": "code",
   "execution_count": 29,
   "metadata": {},
   "outputs": [
    {
     "name": "stdout",
     "output_type": "stream",
     "text": [
      "[1239  456 1006 3636  875 3189 2101 2510 2106  111]\n"
     ]
    }
   ],
   "source": [
    "testtexts = np.random.randint(low=0, high=len(name), size=10)\n",
    "print(testtexts)"
   ]
  },
  {
   "cell_type": "code",
   "execution_count": 30,
   "metadata": {},
   "outputs": [
    {
     "name": "stdout",
     "output_type": "stream",
     "text": [
      "新豐高爾夫球場:\n",
      "新竹縣立體育館\n",
      "南寶高爾夫俱樂部\n",
      "新竹公園(中山公園)\n",
      "嘉南高爾夫球場\n",
      "臺南高爾夫球場\n",
      "==============================\n",
      "岩板巷:\n",
      "心雕居\n",
      "喜樂發發森林公園\n",
      "小粗坑古道\n",
      "德文部落\n",
      "蘭后山莊鄒族文物館\n",
      "==============================\n",
      "戀戀空港灣休閒農場:\n",
      "泉園休閒農場\n",
      "大山背農園\n",
      "108賴家休閒農場\n",
      "三灣梨鄉休閒農業區\n",
      "金谷農場\n",
      "==============================\n",
      "光淙金工藝術館:\n",
      "侏羅紀博物館\n",
      "台北市建國假日玉市\n",
      "石藝大街\n",
      "台灣工藝之家-石藝巧雕工坊\n",
      "Gem Shop真金店\n",
      "==============================\n",
      "蘇花公路107.6K步道:\n",
      "蘇澳港\n",
      "獅子公園\n",
      "南田海岸親水公園\n",
      "南方澳觀景台\n",
      "朝陽國家步道\n",
      "==============================\n",
      "南港公園:\n",
      "遼寧公園\n",
      "南崁溪水岸自行車道\n",
      "福州山公園\n",
      "大潭埤\n",
      "富陽自然生態公園\n",
      "==============================\n",
      "三疊溪天臺殿:\n",
      "埔鹽順澤宮\n",
      "三忠廟\n",
      "馬公北甲北辰宮\n",
      "大甲萬龍宮\n",
      "天后宮\n",
      "==============================\n",
      "成廣澳文化地景(廣恆發遺跡):\n",
      "淡水海關碼頭園區\n",
      "蔴荳古港文化園區\n",
      "白沙港\n",
      "朝隆宮\n",
      "蘇澳港\n",
      "==============================\n",
      "民雄鵝肉街:\n",
      "雙城街夜市\n",
      "文化路夜市\n",
      "中山北路條通商圈\n",
      "萬巒豬腳街\n",
      "華西街觀光夜市\n",
      "==============================\n",
      "鵝鑾鼻:\n",
      "龍坑自然生態保護區\n",
      "白燈塔\n",
      "帆船鼻\n",
      "外傘頂洲\n",
      "西嶼燈塔（漁翁島燈塔）\n",
      "==============================\n"
     ]
    }
   ],
   "source": [
    "for i in testtexts:\n",
    "    r=seeresult(i, nblist=nlist, name=name, numofn=6, out=True)\n",
    "    print(\"==============================\")"
   ]
  },
  {
   "cell_type": "code",
   "execution_count": 11,
   "metadata": {},
   "outputs": [
    {
     "name": "stdout",
     "output_type": "stream",
     "text": [
      "['target', '0nn', '1nn', '2nn', '3nn', '4nn']\n"
     ]
    }
   ],
   "source": [
    "knn = []\n",
    "numofn = 5\n",
    "col = ['target']+list(str(i)+\"nn\" for i in range(numofn))\n",
    "print(col)\n",
    "for i, _ in enumerate(name):\n",
    "    nb = seeresult(target=i, nblist=nlist, name=name, numofn=6)\n",
    "    knn.append(nb)\n",
    "attractionknn = pd.DataFrame(knn,columns=col)\n",
    "attractionknn.to_csv(os.path.join(dataroot, f\"KNN_{numofn}.csv\"), index=False, encoding='utf-8')"
   ]
  },
  {
   "cell_type": "markdown",
   "metadata": {},
   "source": [
    "### Eigen of Laplacian"
   ]
  },
  {
   "cell_type": "code",
   "execution_count": 29,
   "metadata": {},
   "outputs": [],
   "source": [
    "mygraph = getdata(\n",
    "    datafolder=os.path.join(\"dataset\",\"attraction\",f\"K_{5}\"),\n",
    "    nor=False\n",
    ")"
   ]
  },
  {
   "cell_type": "code",
   "execution_count": 30,
   "metadata": {},
   "outputs": [],
   "source": [
    "adj = to_dense_adj(mygraph.edge_index)\n",
    "adj = adj.numpy()[0]"
   ]
  },
  {
   "cell_type": "code",
   "execution_count": 47,
   "metadata": {},
   "outputs": [],
   "source": [
    "from scipy.sparse.csgraph import laplacian\n",
    "import math"
   ]
  },
  {
   "cell_type": "code",
   "execution_count": 32,
   "metadata": {},
   "outputs": [],
   "source": [
    "L = laplacian(adj)"
   ]
  },
  {
   "cell_type": "code",
   "execution_count": 33,
   "metadata": {},
   "outputs": [],
   "source": [
    "vals, vecs = np.linalg.eig(L)"
   ]
  },
  {
   "cell_type": "code",
   "execution_count": 68,
   "metadata": {},
   "outputs": [
    {
     "data": {
      "text/plain": [
       "array([-55.15989 , -49.252228, -47.11877 , -42.321053, -41.140408],\n",
       "      dtype=float32)"
      ]
     },
     "execution_count": 68,
     "metadata": {},
     "output_type": "execute_result"
    }
   ],
   "source": [
    "vals_sorted = np.sort(-vals)\n",
    "vals_sorted[:5]"
   ]
  },
  {
   "cell_type": "code",
   "execution_count": 89,
   "metadata": {},
   "outputs": [
    {
     "data": {
      "image/png": "[encoded data removed]",
      "text/plain": [
       "<Figure size 864x864 with 1 Axes>"
      ]
     },
     "metadata": {
      "needs_background": "light"
     },
     "output_type": "display_data"
    }
   ],
   "source": [
    "topN = vals_sorted.shape[0]\n",
    "topN = 15\n",
    "fig = plt.figure(figsize=(12,12))\n",
    "plt.plot(\n",
    "    list(i for i in range(topN)), \n",
    "    -vals_sorted[:topN]\n",
    ")\n",
    "\"\"\"\n",
    "for i in range(topN):\n",
    "    plt.plot(\n",
    "        [i]*math.floor(vals[i]),\n",
    "        list(j for j in range(math.floor(vals[i])))\n",
    "    )\n",
    "\"\"\"\n",
    "plt.show()\n"
   ]
  },
  {
   "cell_type": "code",
   "execution_count": 60,
   "metadata": {},
   "outputs": [
    {
     "data": {
      "text/plain": [
       "array([ 1.6650984e+01,  1.6635399e+01,  1.6629435e+01,  1.6595863e+01,\n",
       "        1.6589499e+01,  1.6561525e+01,  1.6542751e+01,  4.1081338e-14,\n",
       "       -2.5345462e-14,  1.6526022e+01], dtype=float32)"
      ]
     },
     "execution_count": 60,
     "metadata": {},
     "output_type": "execute_result"
    }
   ],
   "source": [
    "vals[290:300]"
   ]
  },
  {
   "cell_type": "markdown",
   "metadata": {},
   "source": [
    "### Clustering look like result"
   ]
  },
  {
   "cell_type": "markdown",
   "metadata": {},
   "source": [
    "#### TSNE "
   ]
  },
  {
   "cell_type": "code",
   "execution_count": 3,
   "metadata": {},
   "outputs": [
    {
     "name": "stderr",
     "output_type": "stream",
     "text": [
      "/home/tch/.conda/envs/tenv/lib/python3.9/site-packages/sklearn/manifold/_t_sne.py:991: FutureWarning: The PCA initialization in TSNE will change to have the standard deviation of PC1 equal to 1e-4 in 1.2. This will ensure better convergence.\n",
      "  warnings.warn(\n"
     ]
    }
   ],
   "source": [
    "told = torch.load(os.path.join(dataroot,\"ToldescribeEBD.pt\"))\n",
    "told = told.numpy()\n",
    "tsneTold = TSNE(n_components=2, learning_rate='auto', init='pca').fit_transform(told)\n",
    "tsneTold = normalize(tsneTold, axis=0)"
   ]
  },
  {
   "cell_type": "markdown",
   "metadata": {},
   "source": [
    "#### Get clustering result "
   ]
  },
  {
   "cell_type": "code",
   "execution_count": 4,
   "metadata": {},
   "outputs": [],
   "source": [
    "g_num = 7\n",
    "graph = f\"K_5\"\n",
    "clusteringresult = torch.load(os.path.join(clusteringresult_dir,f\"{graph}_{g_num}\", \"cluster.pt\"))\n",
    "clusteringresult = clusteringresult.numpy()"
   ]
  },
  {
   "cell_type": "markdown",
   "metadata": {},
   "source": [
    "#### Check if there exists orphans"
   ]
  },
  {
   "cell_type": "code",
   "execution_count": 5,
   "metadata": {},
   "outputs": [
    {
     "name": "stdout",
     "output_type": "stream",
     "text": [
      "19\n"
     ]
    }
   ],
   "source": [
    "z = 0\n",
    "for idx, i in enumerate(clusteringresult):\n",
    "    s = i.sum()\n",
    "    if s == 0:\n",
    "        #print(idx)\n",
    "        z += 1\n",
    "print(z)"
   ]
  },
  {
   "cell_type": "markdown",
   "metadata": {},
   "source": [
    "#### Write each group to a csv file"
   ]
  },
  {
   "cell_type": "code",
   "execution_count": 6,
   "metadata": {},
   "outputs": [
    {
     "name": "stdout",
     "output_type": "stream",
     "text": [
      "661\n",
      "825\n",
      "711\n",
      "682\n",
      "931\n",
      "1047\n",
      "857\n"
     ]
    }
   ],
   "source": [
    "clusters = {}\n",
    "for i in range(g_num):\n",
    "    clusters[i]= []\n",
    "\n",
    "for idx, i in enumerate(clusteringresult):\n",
    "    belong = np.nonzero(i)[0].tolist()\n",
    "    for groupid in belong:\n",
    "            clusters[groupid].append(idx)\n",
    "for i in range(g_num):\n",
    "    print(len(clusters[i]))"
   ]
  },
  {
   "cell_type": "code",
   "execution_count": 7,
   "metadata": {},
   "outputs": [
    {
     "name": "stdout",
     "output_type": "stream",
     "text": [
      "result/attraction/K_5_7/clustering_result\n"
     ]
    }
   ],
   "source": [
    "outputdir = os.path.join(clusteringresult_dir,f\"{graph}_{g_num}\",\"clustering_result\")\n",
    "if not os.path.isdir(outputdir):\n",
    "    print(outputdir)\n",
    "    os.mkdir(outputdir)\n",
    "    os.mkdir(os.path.join(outputdir,\"eachC\"))\n"
   ]
  },
  {
   "cell_type": "code",
   "execution_count": 8,
   "metadata": {},
   "outputs": [],
   "source": [
    "columns=['name','description']+list(str(i) for i in range(g_num))\n",
    "attrcl = []\n",
    "for idx, attrgroup in enumerate(clusteringresult):\n",
    "    thisattr = [name[idx], toldscribe[idx]]\n",
    "    thisattr = thisattr+attrgroup.tolist()\n",
    "    attrcl.append(thisattr)\n",
    "df = pd.DataFrame(attrcl,columns=columns)\n",
    "df.to_csv(os.path.join(outputdir,\"cluster.csv\"), index=False, encoding='utf-8')\n",
    "\n",
    "for i in range(g_num):\n",
    "    ci = df[df[str(i)]==1]\n",
    "    ci.to_csv(os.path.join(outputdir,\"eachC\",f\"{g_num}-c{i}.csv\"),index=False, encoding='utf-8')"
   ]
  },
  {
   "cell_type": "markdown",
   "metadata": {},
   "source": [
    "#### Vis"
   ]
  },
  {
   "cell_type": "code",
   "execution_count": 9,
   "metadata": {},
   "outputs": [
    {
     "name": "stderr",
     "output_type": "stream",
     "text": [
      "100%|██████████| 7/7 [00:03<00:00,  2.16it/s]\n"
     ]
    }
   ],
   "source": [
    "each_g = []\n",
    "for l in tqdm(range(g_num)):\n",
    "    gi = []\n",
    "    for i in range(df.shape[0]):\n",
    "        if df.iloc[i][str(l)] == 1:\n",
    "            gi.append(tsneTold[i])\n",
    "    gj = np.array(gi)\n",
    "    each_g.append(gj)"
   ]
  },
  {
   "cell_type": "code",
   "execution_count": 10,
   "metadata": {},
   "outputs": [
    {
     "name": "stderr",
     "output_type": "stream",
     "text": [
      "7it [00:00, 174.45it/s]\n"
     ]
    }
   ],
   "source": [
    "glist = list(i for i in range(g_num))\n",
    "colors = cm.rainbow(np.linspace(0, 1, len(glist)))\n",
    "plt.figure(figsize=(12,12))\n",
    "for y, c in tqdm(zip(glist, colors)):\n",
    "    this_g = each_g[y]\n",
    "    plt.scatter(this_g[:, 0], this_g[:, 1], color=c)\n",
    "plt.savefig(os.path.join(outputdir,\"vis.jpg\"))\n",
    "plt.close()"
   ]
  }
 ],
 "metadata": {
  "kernelspec": {
   "display_name": "Python 3.10.4 ('py')",
   "language": "python",
   "name": "python3"
  },
  "language_info": {
   "codemirror_mode": {
    "name": "ipython",
    "version": 3
   },
   "file_extension": ".py",
   "mimetype": "text/x-python",
   "name": "python",
   "nbconvert_exporter": "python",
   "pygments_lexer": "ipython3",
   "version": "3.10.4"
  },
  "orig_nbformat": 4,
  "vscode": {
   "interpreter": {
    "hash": "22216b08ebab8be3394fec349c00ce696f41ecd13338106d20d108b8649c16c1"
   }
  }
 },
 "nbformat": 4,
 "nbformat_minor": 2
}
